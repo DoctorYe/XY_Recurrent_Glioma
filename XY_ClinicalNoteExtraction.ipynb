{
 "cells": [
  {
   "cell_type": "code",
   "execution_count": 1,
   "metadata": {
    "collapsed": true
   },
   "outputs": [],
   "source": [
    "import textract\n",
    "\n",
    "text = textract.process(\"./文档3.docx\")"
   ]
  },
  {
   "cell_type": "code",
   "execution_count": 174,
   "metadata": {
    "collapsed": true
   },
   "outputs": [],
   "source": [
    "import re\n",
    "import pandas as pd\n",
    "def ItemExtraction(item,text):\n",
    "    result={}\n",
    "    text_pre=re.sub('\\n','=',text)\n",
    "    text_use=re.sub('\\xc2\\xa0','',text_pre) # remove space between item   \n",
    "    Pattern='.*?'.join([item,'==(.*?)=='])\n",
    "    matched_string=re.compile(Pattern).findall(text_use)\n",
    "    n=0\n",
    "    for value in matched_string:\n",
    "        \n",
    "        result.setdefault('matched',{}).update({item+'_'+str(n):value})\n",
    "        n+=1\n",
    "    result_pd=pd.DataFrame(result)\n",
    "    return result_pd"
   ]
  },
  {
   "cell_type": "code",
   "execution_count": 131,
   "metadata": {},
   "outputs": [
    {
     "data": {
      "text/html": [
       "<div>\n",
       "<style>\n",
       "    .dataframe thead tr:only-child th {\n",
       "        text-align: right;\n",
       "    }\n",
       "\n",
       "    .dataframe thead th {\n",
       "        text-align: left;\n",
       "    }\n",
       "\n",
       "    .dataframe tbody tr th {\n",
       "        vertical-align: top;\n",
       "    }\n",
       "</style>\n",
       "<table border=\"1\" class=\"dataframe\">\n",
       "  <thead>\n",
       "    <tr style=\"text-align: right;\">\n",
       "      <th></th>\n",
       "      <th>matched</th>\n",
       "    </tr>\n",
       "  </thead>\n",
       "  <tbody>\n",
       "    <tr>\n",
       "      <th>性别_0</th>\n",
       "      <td>授权代理人：性别：民族：职业：身份证号码：工作单位：联系电话：邮政编码：住址：=委托人因鞍区...</td>\n",
       "    </tr>\n",
       "    <tr>\n",
       "      <th>性别_1</th>\n",
       "      <td>男</td>\n",
       "    </tr>\n",
       "    <tr>\n",
       "      <th>性别_2</th>\n",
       "      <td>男</td>\n",
       "    </tr>\n",
       "  </tbody>\n",
       "</table>\n",
       "</div>"
      ],
      "text/plain": [
       "                                                matched\n",
       "性别_0  授权代理人：性别：民族：职业：身份证号码：工作单位：联系电话：邮政编码：住址：=委托人因鞍区...\n",
       "性别_1                                                  男\n",
       "性别_2                                                  男"
      ]
     },
     "execution_count": 131,
     "metadata": {},
     "output_type": "execute_result"
    }
   ],
   "source": [
    "ItemExtraction(item='性别',text=text)"
   ]
  },
  {
   "cell_type": "code",
   "execution_count": 130,
   "metadata": {
    "collapsed": true
   },
   "outputs": [],
   "source": [
    "def LabResultExtraction(title,ResultItem,text,time='报告日期'):\n",
    "    result={}\n",
    "    text_use=re.sub('\\n','=',text)\n",
    "        \n",
    "    Pattern='.*?'.join([title,time,'(\\d\\d\\d\\d-\\d\\d-\\d\\d)',ResultItem,'==(.*?)=='])\n",
    "    matched_string=re.compile(Pattern).findall(text_use)\n",
    "    for t,value in matched_string:\n",
    "        \n",
    "        result.setdefault(ResultItem,{}).update({t:value})\n",
    "    result_pd=pd.DataFrame(result)\n",
    "    return result_pd"
   ]
  },
  {
   "cell_type": "code",
   "execution_count": 129,
   "metadata": {
    "scrolled": false
   },
   "outputs": [
    {
     "data": {
      "text/html": [
       "<div>\n",
       "<style>\n",
       "    .dataframe thead tr:only-child th {\n",
       "        text-align: right;\n",
       "    }\n",
       "\n",
       "    .dataframe thead th {\n",
       "        text-align: left;\n",
       "    }\n",
       "\n",
       "    .dataframe tbody tr th {\n",
       "        vertical-align: top;\n",
       "    }\n",
       "</style>\n",
       "<table border=\"1\" class=\"dataframe\">\n",
       "  <thead>\n",
       "    <tr style=\"text-align: right;\">\n",
       "      <th></th>\n",
       "      <th>淋巴细胞计数</th>\n",
       "    </tr>\n",
       "  </thead>\n",
       "  <tbody>\n",
       "    <tr>\n",
       "      <th>2011-03-07</th>\n",
       "      <td>1.5</td>\n",
       "    </tr>\n",
       "    <tr>\n",
       "      <th>2011-03-08</th>\n",
       "      <td>0.7</td>\n",
       "    </tr>\n",
       "    <tr>\n",
       "      <th>2011-03-12</th>\n",
       "      <td>1.6</td>\n",
       "    </tr>\n",
       "    <tr>\n",
       "      <th>2011-03-13</th>\n",
       "      <td>2.1</td>\n",
       "    </tr>\n",
       "    <tr>\n",
       "      <th>2011-03-18</th>\n",
       "      <td>0.8</td>\n",
       "    </tr>\n",
       "    <tr>\n",
       "      <th>2011-03-20</th>\n",
       "      <td>0.2</td>\n",
       "    </tr>\n",
       "  </tbody>\n",
       "</table>\n",
       "</div>"
      ],
      "text/plain": [
       "           淋巴细胞计数\n",
       "2011-03-07    1.5\n",
       "2011-03-08    0.7\n",
       "2011-03-12    1.6\n",
       "2011-03-13    2.1\n",
       "2011-03-18    0.8\n",
       "2011-03-20    0.2"
      ]
     },
     "execution_count": 129,
     "metadata": {},
     "output_type": "execute_result"
    }
   ],
   "source": [
    "LabResultExtraction(ResultItem='淋巴细胞计数',text=text,title='检验科临检组检验报告单')"
   ]
  },
  {
   "cell_type": "code",
   "execution_count": 151,
   "metadata": {},
   "outputs": [],
   "source": [
    "def InpatientNote(text,StartKey='病历',EndKey='入院诊断'):\n",
    "    result={}\n",
    "    text_pre=re.sub('\\n','=',text)\n",
    "    text_use=re.sub('\\xc2\\xa0','',text_pre) # remove space between item   \n",
    "    Pattern=StartKey+'='+'(.*?)'+EndKey\n",
    "    matched_string=re.compile(Pattern).findall(text_use)\n",
    "    n=0\n",
    "    for value in matched_string:\n",
    "        \n",
    "        result.setdefault('matched',{}).update({StartKey+'_'+str(n):value})\n",
    "        n+=1\n",
    "    result_pd=pd.DataFrame(result)\n",
    "    return result_pd"
   ]
  },
  {
   "cell_type": "code",
   "execution_count": 152,
   "metadata": {},
   "outputs": [
    {
     "data": {
      "text/html": [
       "<div>\n",
       "<style>\n",
       "    .dataframe thead tr:only-child th {\n",
       "        text-align: right;\n",
       "    }\n",
       "\n",
       "    .dataframe thead th {\n",
       "        text-align: left;\n",
       "    }\n",
       "\n",
       "    .dataframe tbody tr th {\n",
       "        vertical-align: top;\n",
       "    }\n",
       "</style>\n",
       "<table border=\"1\" class=\"dataframe\">\n",
       "  <thead>\n",
       "    <tr style=\"text-align: right;\">\n",
       "      <th></th>\n",
       "      <th>matched</th>\n",
       "    </tr>\n",
       "  </thead>\n",
       "  <tbody>\n",
       "    <tr>\n",
       "      <th>病历_0</th>\n",
       "      <td>=====主 诉：生长缓慢2年余，反复头痛1月，发现颅内占位病变10天。 ==现病史：家长反...</td>\n",
       "    </tr>\n",
       "  </tbody>\n",
       "</table>\n",
       "</div>"
      ],
      "text/plain": [
       "                                                matched\n",
       "病历_0  =====主 诉：生长缓慢2年余，反复头痛1月，发现颅内占位病变10天。 ==现病史：家长反..."
      ]
     },
     "execution_count": 152,
     "metadata": {},
     "output_type": "execute_result"
    }
   ],
   "source": [
    "InpatientNote(text)"
   ]
  },
  {
   "cell_type": "code",
   "execution_count": 167,
   "metadata": {
    "collapsed": true
   },
   "outputs": [],
   "source": [
    "def ClinicalNote(text,TimeKey='(\\d\\d\\d\\d-\\d\\d-\\d\\d \\d\\d:\\d\\d)',EndKey='医师:'):\n",
    "    result={}\n",
    "    text_use=re.sub('\\n','=',text)\n",
    "    Pattern=TimeKey+'=='+'(.*?)'+'='+'(.*?)'+EndKey\n",
    "    matched_string=re.compile(Pattern).findall(text_use)\n",
    "    for time,notetype,note in matched_string:\n",
    "        \n",
    "        result.setdefault('NoteTime',[]).append(time)\n",
    "        result.setdefault('NoteType',[]).append(notetype)\n",
    "        result.setdefault('Note',[]).append(note)\n",
    "    result_pd=pd.DataFrame(result)\n",
    "    return result_pd"
   ]
  },
  {
   "cell_type": "code",
   "execution_count": 172,
   "metadata": {},
   "outputs": [],
   "source": [
    "clinical_note=ClinicalNote(text)"
   ]
  },
  {
   "cell_type": "code",
   "execution_count": 173,
   "metadata": {},
   "outputs": [
    {
     "data": {
      "text/html": [
       "<div>\n",
       "<style>\n",
       "    .dataframe thead tr:only-child th {\n",
       "        text-align: right;\n",
       "    }\n",
       "\n",
       "    .dataframe thead th {\n",
       "        text-align: left;\n",
       "    }\n",
       "\n",
       "    .dataframe tbody tr th {\n",
       "        vertical-align: top;\n",
       "    }\n",
       "</style>\n",
       "<table border=\"1\" class=\"dataframe\">\n",
       "  <thead>\n",
       "    <tr style=\"text-align: right;\">\n",
       "      <th></th>\n",
       "      <th>NoteTime</th>\n",
       "      <th>NoteType</th>\n",
       "    </tr>\n",
       "  </thead>\n",
       "  <tbody>\n",
       "    <tr>\n",
       "      <th>0</th>\n",
       "      <td>2011-03-06 10:47</td>\n",
       "      <td>病 案 号：</td>\n",
       "    </tr>\n",
       "    <tr>\n",
       "      <th>1</th>\n",
       "      <td>2011-03-07 09:00</td>\n",
       "      <td>副教授代主治医师查房</td>\n",
       "    </tr>\n",
       "    <tr>\n",
       "      <th>2</th>\n",
       "      <td>2011-03-08 10:00</td>\n",
       "      <td>教授代主治医师查房</td>\n",
       "    </tr>\n",
       "    <tr>\n",
       "      <th>3</th>\n",
       "      <td>2011-03-11 10:00</td>\n",
       "      <td>病程记录</td>\n",
       "    </tr>\n",
       "    <tr>\n",
       "      <th>4</th>\n",
       "      <td>2011-03-14 09:30</td>\n",
       "      <td>副教授代主治医师查房</td>\n",
       "    </tr>\n",
       "    <tr>\n",
       "      <th>5</th>\n",
       "      <td>2011-03-16 08:43</td>\n",
       "      <td>术前小结</td>\n",
       "    </tr>\n",
       "    <tr>\n",
       "      <th>6</th>\n",
       "      <td>2011-03-17 15:30</td>\n",
       "      <td>术后首次病程</td>\n",
       "    </tr>\n",
       "    <tr>\n",
       "      <th>7</th>\n",
       "      <td>2011-03-17 19:00</td>\n",
       "      <td>转科小结</td>\n",
       "    </tr>\n",
       "    <tr>\n",
       "      <th>8</th>\n",
       "      <td>2011-03-17 19:23</td>\n",
       "      <td>转入记录</td>\n",
       "    </tr>\n",
       "    <tr>\n",
       "      <th>9</th>\n",
       "      <td>2011-03-18 09:50</td>\n",
       "      <td>教授代主治医师查房</td>\n",
       "    </tr>\n",
       "    <tr>\n",
       "      <th>10</th>\n",
       "      <td>2011-03-19 10:00</td>\n",
       "      <td>副教授代主治医师查房</td>\n",
       "    </tr>\n",
       "    <tr>\n",
       "      <th>11</th>\n",
       "      <td>2011-03-20 09:00</td>\n",
       "      <td>病程记录</td>\n",
       "    </tr>\n",
       "    <tr>\n",
       "      <th>12</th>\n",
       "      <td>2011-03-23 09:30</td>\n",
       "      <td>副教授代主治医师查房</td>\n",
       "    </tr>\n",
       "    <tr>\n",
       "      <th>13</th>\n",
       "      <td>2011-03-26 10:00</td>\n",
       "      <td>教授代主治医师查房</td>\n",
       "    </tr>\n",
       "    <tr>\n",
       "      <th>14</th>\n",
       "      <td>2011-03-28 10:00</td>\n",
       "      <td>副教授代主治医师查房</td>\n",
       "    </tr>\n",
       "    <tr>\n",
       "      <th>15</th>\n",
       "      <td>2011-03-31 09:33</td>\n",
       "      <td>病程记录</td>\n",
       "    </tr>\n",
       "    <tr>\n",
       "      <th>16</th>\n",
       "      <td>2011-04-02 09:00</td>\n",
       "      <td>教授医师查房</td>\n",
       "    </tr>\n",
       "    <tr>\n",
       "      <th>17</th>\n",
       "      <td>2011-04-04 09:00</td>\n",
       "      <td>末次病程记录</td>\n",
       "    </tr>\n",
       "  </tbody>\n",
       "</table>\n",
       "</div>"
      ],
      "text/plain": [
       "            NoteTime     NoteType\n",
       "0   2011-03-06 10:47       病 案 号：\n",
       "1   2011-03-07 09:00  副教授代主治医师查房 \n",
       "2   2011-03-08 10:00   教授代主治医师查房 \n",
       "3   2011-03-11 10:00        病程记录 \n",
       "4   2011-03-14 09:30  副教授代主治医师查房 \n",
       "5   2011-03-16 08:43        术前小结 \n",
       "6   2011-03-17 15:30      术后首次病程 \n",
       "7   2011-03-17 19:00        转科小结 \n",
       "8   2011-03-17 19:23        转入记录 \n",
       "9   2011-03-18 09:50   教授代主治医师查房 \n",
       "10  2011-03-19 10:00  副教授代主治医师查房 \n",
       "11  2011-03-20 09:00        病程记录 \n",
       "12  2011-03-23 09:30  副教授代主治医师查房 \n",
       "13  2011-03-26 10:00   教授代主治医师查房 \n",
       "14  2011-03-28 10:00  副教授代主治医师查房 \n",
       "15  2011-03-31 09:33        病程记录 \n",
       "16  2011-04-02 09:00      教授医师查房 \n",
       "17  2011-04-04 09:00      末次病程记录 "
      ]
     },
     "execution_count": 173,
     "metadata": {},
     "output_type": "execute_result"
    }
   ],
   "source": [
    "clinical_note.loc[:,['NoteTime','NoteType']]"
   ]
  },
  {
   "cell_type": "code",
   "execution_count": null,
   "metadata": {
    "collapsed": true
   },
   "outputs": [],
   "source": []
  }
 ],
 "metadata": {
  "kernelspec": {
   "display_name": "Python 2",
   "language": "python",
   "name": "python2"
  },
  "language_info": {
   "codemirror_mode": {
    "name": "ipython",
    "version": 2
   },
   "file_extension": ".py",
   "mimetype": "text/x-python",
   "name": "python",
   "nbconvert_exporter": "python",
   "pygments_lexer": "ipython2",
   "version": "2.7.14"
  }
 },
 "nbformat": 4,
 "nbformat_minor": 2
}
