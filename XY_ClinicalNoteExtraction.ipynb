{
 "cells": [
  {
   "cell_type": "code",
   "execution_count": 1,
   "metadata": {
    "collapsed": true
   },
   "outputs": [],
   "source": [
    "import textract\n",
    "\n",
    "text = textract.process(\"./文档3.docx\")"
   ]
  },
  {
   "cell_type": "code",
   "execution_count": null,
   "metadata": {
    "collapsed": true
   },
   "outputs": [],
   "source": [
    "import re\n",
    "import pandas as pd\n",
    "def ItemExtraction(item,text):\n",
    "    result={}\n",
    "    text_pre=re.sub('\\n','=',text)\n",
    "    text_use=re.sub('\\xc2\\xa0','',text_pre) # remove space between item   \n",
    "    Pattern='.*?'.join([item,'==(.*?)=='])\n",
    "    matched_string=re.compile(Pattern).findall(text_use)\n",
    "    n=0\n",
    "    for value in matched_string:\n",
    "        \n",
    "        result.setdefault('matched',{}).update({item+'_'+str(n):value})\n",
    "        n+=1\n",
    "    result_pd=pd.DataFrame(result)\n",
    "    return result_pd"
   ]
  },
  {
   "cell_type": "code",
   "execution_count": 131,
   "metadata": {},
   "outputs": [
    {
     "data": {
      "text/html": [
       "<div>\n",
       "<style>\n",
       "    .dataframe thead tr:only-child th {\n",
       "        text-align: right;\n",
       "    }\n",
       "\n",
       "    .dataframe thead th {\n",
       "        text-align: left;\n",
       "    }\n",
       "\n",
       "    .dataframe tbody tr th {\n",
       "        vertical-align: top;\n",
       "    }\n",
       "</style>\n",
       "<table border=\"1\" class=\"dataframe\">\n",
       "  <thead>\n",
       "    <tr style=\"text-align: right;\">\n",
       "      <th></th>\n",
       "      <th>matched</th>\n",
       "    </tr>\n",
       "  </thead>\n",
       "  <tbody>\n",
       "    <tr>\n",
       "      <th>性别_0</th>\n",
       "      <td>授权代理人：性别：民族：职业：身份证号码：工作单位：联系电话：邮政编码：住址：=委托人因鞍区...</td>\n",
       "    </tr>\n",
       "    <tr>\n",
       "      <th>性别_1</th>\n",
       "      <td>男</td>\n",
       "    </tr>\n",
       "    <tr>\n",
       "      <th>性别_2</th>\n",
       "      <td>男</td>\n",
       "    </tr>\n",
       "  </tbody>\n",
       "</table>\n",
       "</div>"
      ],
      "text/plain": [
       "                                                matched\n",
       "性别_0  授权代理人：性别：民族：职业：身份证号码：工作单位：联系电话：邮政编码：住址：=委托人因鞍区...\n",
       "性别_1                                                  男\n",
       "性别_2                                                  男"
      ]
     },
     "execution_count": 131,
     "metadata": {},
     "output_type": "execute_result"
    }
   ],
   "source": [
    "ItemExtraction(item='性别',text=text)"
   ]
  },
  {
   "cell_type": "code",
   "execution_count": 130,
   "metadata": {
    "collapsed": true
   },
   "outputs": [],
   "source": [
    "def LabResultExtraction(title,ResultItem,text,time='报告日期'):\n",
    "    result={}\n",
    "    text_use=re.sub('\\n','=',text)\n",
    "        \n",
    "    Pattern='.*?'.join([title,time,'(\\d\\d\\d\\d-\\d\\d-\\d\\d)',ResultItem,'==(.*?)=='])\n",
    "    matched_string=re.compile(Pattern).findall(text_use)\n",
    "    for t,value in matched_string:\n",
    "        \n",
    "        result.setdefault(ResultItem,{}).update({t:value})\n",
    "    result_pd=pd.DataFrame(result)\n",
    "    return result_pd"
   ]
  },
  {
   "cell_type": "code",
   "execution_count": 129,
   "metadata": {
    "scrolled": true
   },
   "outputs": [
    {
     "data": {
      "text/html": [
       "<div>\n",
       "<style>\n",
       "    .dataframe thead tr:only-child th {\n",
       "        text-align: right;\n",
       "    }\n",
       "\n",
       "    .dataframe thead th {\n",
       "        text-align: left;\n",
       "    }\n",
       "\n",
       "    .dataframe tbody tr th {\n",
       "        vertical-align: top;\n",
       "    }\n",
       "</style>\n",
       "<table border=\"1\" class=\"dataframe\">\n",
       "  <thead>\n",
       "    <tr style=\"text-align: right;\">\n",
       "      <th></th>\n",
       "      <th>淋巴细胞计数</th>\n",
       "    </tr>\n",
       "  </thead>\n",
       "  <tbody>\n",
       "    <tr>\n",
       "      <th>2011-03-07</th>\n",
       "      <td>1.5</td>\n",
       "    </tr>\n",
       "    <tr>\n",
       "      <th>2011-03-08</th>\n",
       "      <td>0.7</td>\n",
       "    </tr>\n",
       "    <tr>\n",
       "      <th>2011-03-12</th>\n",
       "      <td>1.6</td>\n",
       "    </tr>\n",
       "    <tr>\n",
       "      <th>2011-03-13</th>\n",
       "      <td>2.1</td>\n",
       "    </tr>\n",
       "    <tr>\n",
       "      <th>2011-03-18</th>\n",
       "      <td>0.8</td>\n",
       "    </tr>\n",
       "    <tr>\n",
       "      <th>2011-03-20</th>\n",
       "      <td>0.2</td>\n",
       "    </tr>\n",
       "  </tbody>\n",
       "</table>\n",
       "</div>"
      ],
      "text/plain": [
       "           淋巴细胞计数\n",
       "2011-03-07    1.5\n",
       "2011-03-08    0.7\n",
       "2011-03-12    1.6\n",
       "2011-03-13    2.1\n",
       "2011-03-18    0.8\n",
       "2011-03-20    0.2"
      ]
     },
     "execution_count": 129,
     "metadata": {},
     "output_type": "execute_result"
    }
   ],
   "source": [
    "LabResultExtraction(ResultItem='淋巴细胞计数',text=text,title='检验科临检组检验报告单')"
   ]
  }
 ],
 "metadata": {
  "kernelspec": {
   "display_name": "Python 2",
   "language": "python",
   "name": "python2"
  },
  "language_info": {
   "codemirror_mode": {
    "name": "ipython",
    "version": 2
   },
   "file_extension": ".py",
   "mimetype": "text/x-python",
   "name": "python",
   "nbconvert_exporter": "python",
   "pygments_lexer": "ipython2",
   "version": "2.7.14"
  }
 },
 "nbformat": 4,
 "nbformat_minor": 2
}
